{
 "cells": [
  {
   "cell_type": "code",
   "execution_count": 23,
   "id": "77aa2e9f-45b8-4ba5-82e4-771a2717ba5b",
   "metadata": {},
   "outputs": [
    {
     "name": "stderr",
     "output_type": "stream",
     "text": [
      "[*********************100%***********************]  8 of 8 completed"
     ]
    },
    {
     "name": "stdout",
     "output_type": "stream",
     "text": [
      "MFRP Portfolio Weights: [-0.0024346   0.0229894   0.06973383  0.17569702  0.091374    0.50124962\n",
      "  0.12026236  0.02112836]\n",
      "Optimized Portfolio Weights (Mean-Variance): [0.         0.         0.07048362 0.54111607 0.13766074 0.18743715\n",
      " 0.0505423  0.0127779 ]\n",
      "Adjusted Returns (Black-Litterman): [0.06945189 0.01532177 0.14904127 0.26271221 0.19235586 0.09161604\n",
      " 0.06174251 0.17540136]\n",
      "Momentum: Ticker           APA  BBAS3.SA       CVS       DIS       JPM        KO  \\\n",
      "Date                                                                     \n",
      "2019-12-20  0.027615  0.114250  0.052682  0.017982  0.026972  0.040567   \n",
      "2019-12-23  0.125905  0.158059  0.056058  0.017868  0.027183  0.041437   \n",
      "2019-12-26  0.134753  0.132564  0.052047  0.020122  0.033696  0.030877   \n",
      "2019-12-27  0.115533  0.153455  0.064203  0.021332  0.036975  0.026229   \n",
      "2019-12-30  0.038893  0.144971  0.058575  0.015811  0.027402  0.034087   \n",
      "\n",
      "Ticker      SUZB3.SA       UAL  \n",
      "Date                            \n",
      "2019-12-20  0.136583 -0.014138  \n",
      "2019-12-23  0.146598 -0.007782  \n",
      "2019-12-26  0.198406 -0.011667  \n",
      "2019-12-27  0.218648 -0.011889  \n",
      "2019-12-30  0.146946 -0.017327  \n",
      "Final Portfolio Weights (Black-Litterman + Momentum):\n",
      "          Weight (%)\n",
      "JPM              0.0\n",
      "BBAS3.SA         2.0\n",
      "KO              10.0\n",
      "APA             40.0\n",
      "CVS             11.0\n",
      "UAL             24.0\n",
      "DIS             13.0\n",
      "SUZB3.SA         0.0\n"
     ]
    },
    {
     "name": "stderr",
     "output_type": "stream",
     "text": [
      "\n"
     ]
    }
   ],
   "source": [
    "import yfinance as yf\n",
    "import numpy as np\n",
    "import pandas as pd\n",
    "\n",
    "# Definir os tickers dos ativos\n",
    "tickers = ['JPM', 'BBAS3.SA', 'KO', 'APA', 'CVS', 'UAL', 'DIS', 'SUZB3.SA']\n",
    "\n",
    "# Baixar dados históricos de preços (fechamento)\n",
    "data = yf.download(tickers, start=\"2016-01-01\", end=\"2020-01-01\")['Close']\n",
    "data = data.dropna()  # Remover valores ausentes\n",
    "\n",
    "# Calcular a matriz de covariância dos retornos dos ativos\n",
    "cov_matrix = data.pct_change().cov()\n",
    "\n",
    "# Função para otimização de Média-Variância\n",
    "def mean_variance_optimization(expected_returns, cov_matrix):\n",
    "    def objective(weights):\n",
    "        port_return = np.dot(weights, expected_returns)\n",
    "        port_volatility = np.sqrt(np.dot(weights.T, np.dot(cov_matrix, weights)))\n",
    "        return -port_return / port_volatility  # Maximizar o Sharpe ratio\n",
    "    \n",
    "    n = len(expected_returns)\n",
    "    init_guess = np.ones(n) / n  # Distribuição inicial igual\n",
    "    bounds = [(0, 1) for _ in range(n)]\n",
    "    constraints = {'type': 'eq', 'fun': lambda x: np.sum(x) - 1}  # Restrição: soma dos pesos = 1\n",
    "\n",
    "    result = minimize(objective, init_guess, method='SLSQP', bounds=bounds, constraints=constraints)\n",
    "    return result.x\n",
    "\n",
    "# Construção do Portfólio MFRP\n",
    "weights_mfrp = mfrp_portfolio(cov_matrix)\n",
    "print(\"MFRP Portfolio Weights:\", weights_mfrp)\n",
    "\n",
    "# Calcular o retorno esperado dos ativos (para otimização de média-variância)\n",
    "expected_returns = data.mean()\n",
    "\n",
    "# Otimização de Média-Variância\n",
    "optimized_weights = mean_variance_optimization(expected_returns, cov_matrix)\n",
    "print(\"Optimized Portfolio Weights (Mean-Variance):\", optimized_weights)\n",
    "\n",
    "# Simulando visões para o modelo Black-Litterman\n",
    "tau = 0.05  # Constante de escala\n",
    "sigma = cov_matrix  # Matriz de covariância dos ativos\n",
    "P = np.array([[1, 0, 0, 0, 0, 0, 0, 0],  # Visão sobre o Ativo 1 (JPM)\n",
    "              [0, 1, 0, 0, 0, 0, 0, 0]])  # Visão sobre o Ativo 2 (BBAS3.SA)\n",
    "Q = np.array([0.02, -0.01])  # Visões sobre os ativos\n",
    "omega = np.diag([0.0001, 0.0001])  # Incerteza das visões\n",
    "Pi = expected_returns.values  # Visões de equilíbrio baseadas nos retornos esperados dos ativos\n",
    "\n",
    "# Ajustando os retornos com o Black-Litterman\n",
    "adjusted_returns = black_litterman(expected_returns.values, tau, sigma, P, Q, omega, Pi)\n",
    "print(\"Adjusted Returns (Black-Litterman):\", adjusted_returns)\n",
    "\n",
    "# Calcular o momentum de série temporal para cada ativo\n",
    "momentum = time_series_momentum(data)\n",
    "print(\"Momentum:\", momentum.tail())\n",
    "\n",
    "# Combine as visões de Black-Litterman e Momentum para otimização\n",
    "combined_returns = adjusted_returns + momentum.iloc[-1].values  # Combinando visões\n",
    "\n",
    "# Otimizar novamente com os retornos ajustados combinados\n",
    "final_weights = mean_variance_optimization(combined_returns, cov_matrix)\n",
    "final_weights = np.round(final_weights, 2) * 100  # Arredondar e multiplicar por 100 para mostrar em %\n",
    "\n",
    "# Exibir os pesos finais associados aos tickers\n",
    "final_weights_df = pd.DataFrame(final_weights, index=tickers, columns=[\"Weight (%)\"])\n",
    "print(\"Final Portfolio Weights (Black-Litterman + Momentum):\")\n",
    "print(final_weights_df)\n"
   ]
  },
  {
   "cell_type": "code",
   "execution_count": null,
   "id": "80a7fc47-cd6e-4c0d-bde0-ec85d94f24a3",
   "metadata": {},
   "outputs": [],
   "source": []
  }
 ],
 "metadata": {
  "kernelspec": {
   "display_name": "Python 3 (ipykernel)",
   "language": "python",
   "name": "python3"
  },
  "language_info": {
   "codemirror_mode": {
    "name": "ipython",
    "version": 3
   },
   "file_extension": ".py",
   "mimetype": "text/x-python",
   "name": "python",
   "nbconvert_exporter": "python",
   "pygments_lexer": "ipython3",
   "version": "3.12.3"
  }
 },
 "nbformat": 4,
 "nbformat_minor": 5
}
